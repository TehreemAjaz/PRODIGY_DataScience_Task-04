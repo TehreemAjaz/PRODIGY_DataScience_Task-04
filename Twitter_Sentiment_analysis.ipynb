{
  "nbformat": 4,
  "nbformat_minor": 0,
  "metadata": {
    "colab": {
      "provenance": []
    },
    "kernelspec": {
      "name": "python3",
      "display_name": "Python 3"
    },
    "language_info": {
      "name": "python"
    }
  },
  "cells": [
    {
      "cell_type": "code",
      "source": [
        "import pandas as pd\n",
        "\n",
        "data = pd.read_csv('/content/twitter_training.csv')\n",
        "\n",
        "data.head()"
      ],
      "metadata": {
        "id": "hSRXpM6ldjlC"
      },
      "execution_count": null,
      "outputs": []
    },
    {
      "cell_type": "code",
      "source": [
        "data_validation = pd.read_csv('twitter_validation.csv')\n",
        "data_validation.head()"
      ],
      "metadata": {
        "id": "JOFRNQW0dmxt"
      },
      "execution_count": null,
      "outputs": []
    },
    {
      "cell_type": "code",
      "source": [
        "import pandas as pd\n",
        "\n",
        "data={'Sentiment':['Positive','Negative','Neutral']}\n",
        "\n",
        "data_validation=pd.DataFrame(data)"
      ],
      "metadata": {
        "id": "3HJxBW0cdpC7"
      },
      "execution_count": null,
      "outputs": []
    },
    {
      "cell_type": "code",
      "source": [
        "from sklearn.preprocessing import LabelEncoder\n",
        "\n",
        "import pandas as pd\n",
        "\n",
        "data={'Sentiment':['Positive','Negative','Neutral']}\n",
        "\n",
        "data_validation=pd.DataFrame(data)\n",
        "\n",
        "label_encoder = LabelEncoder()\n",
        "\n",
        "# Apply Label Encoding\n",
        "data_validation['Sentiment_Numerical'] = label_encoder.fit_transform(data_validation['Sentiment'])\n",
        "\n",
        "print(data_validation)"
      ],
      "metadata": {
        "id": "cIO4qogJdsVF"
      },
      "execution_count": null,
      "outputs": []
    },
    {
      "cell_type": "code",
      "source": [
        "data_validation.column=['ID','Topic','Sentiment','Original Text','Cleaned_Test']\n",
        "data_validation = ['Sentiment','Cleaned_Test']"
      ],
      "metadata": {
        "id": "Ib9SGbaydwSA"
      },
      "execution_count": null,
      "outputs": []
    },
    {
      "cell_type": "code",
      "source": [
        "import matplotlib.pyplot as plt\n",
        "\n",
        "#calculate sentiment count\n",
        "\n",
        "sentiment_counts = data_validation['Sentiment'].value_counts()\n",
        "\n",
        "#create bar chart to create sentiment column\n",
        "sentiment_counts.plot(kind ='bar', color =['green','red','grey'])\n",
        "plt.title('Sentiment Distribution')\n",
        "plt.xlabel('Sentiment')\n",
        "plt.ylabel('Frequency')\n",
        "plt.show()"
      ],
      "metadata": {
        "id": "eZ6OuIE7dzjC"
      },
      "execution_count": null,
      "outputs": []
    }
  ]
}